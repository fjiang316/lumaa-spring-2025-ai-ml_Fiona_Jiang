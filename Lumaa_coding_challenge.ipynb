{
  "nbformat": 4,
  "nbformat_minor": 0,
  "metadata": {
    "colab": {
      "provenance": [],
      "authorship_tag": "ABX9TyMsl3sDpcVGincT3dMGaV2b",
      "include_colab_link": true
    },
    "kernelspec": {
      "name": "python3",
      "display_name": "Python 3"
    },
    "language_info": {
      "name": "python"
    }
  },
  "cells": [
    {
      "cell_type": "markdown",
      "metadata": {
        "id": "view-in-github",
        "colab_type": "text"
      },
      "source": [
        "<a href=\"https://colab.research.google.com/github/fjiang316/lumaa-spring-2025-ai-ml_Fiona_Jiang/blob/main/Lumaa_coding_challenge.ipynb\" target=\"_parent\"><img src=\"https://colab.research.google.com/assets/colab-badge.svg\" alt=\"Open In Colab\"/></a>"
      ]
    },
    {
      "cell_type": "markdown",
      "source": [
        "# Movie Recommender Coding Challenge\n",
        "Author: Fiona Jiang"
      ],
      "metadata": {
        "id": "rd6afkEk-BAq"
      }
    },
    {
      "cell_type": "code",
      "source": [
        "import pandas as pd\n",
        "import numpy as np"
      ],
      "metadata": {
        "id": "oHAaN83H_nn6"
      },
      "execution_count": 5,
      "outputs": []
    },
    {
      "cell_type": "markdown",
      "source": [
        "## Dataset Loading\n",
        "In this section we are going to download from kaggle the dataset we are going to be using. The dataset I chose is the movie dataset by rounakbanik from kaggle, specifically we are going to use movies_metadata.csv. There are two options:\n",
        "\n",
        "1. Directly go to https://www.kaggle.com/datasets/rounakbanik/the-movies-dataset?select=movies_metadata.csv and download the csv file, then upload it to the same directory as this notebook.\n",
        "\n",
        "2. Follow the code cells below to download it from kaggle directly (this works better if you are using google colab). Please note this would require a kaggle api, please generate one through your kaggle account."
      ],
      "metadata": {
        "id": "FgujXd1Q-LuK"
      }
    },
    {
      "cell_type": "code",
      "execution_count": 1,
      "metadata": {
        "colab": {
          "base_uri": "https://localhost:8080/",
          "height": 91
        },
        "id": "4qh2CtoH6Ef5",
        "outputId": "8860755f-e137-41f4-aede-348855ca1403"
      },
      "outputs": [
        {
          "output_type": "display_data",
          "data": {
            "text/plain": [
              "<IPython.core.display.HTML object>"
            ],
            "text/html": [
              "\n",
              "     <input type=\"file\" id=\"files-05a511c7-12c1-4ff3-890e-d39b0775c66f\" name=\"files[]\" multiple disabled\n",
              "        style=\"border:none\" />\n",
              "     <output id=\"result-05a511c7-12c1-4ff3-890e-d39b0775c66f\">\n",
              "      Upload widget is only available when the cell has been executed in the\n",
              "      current browser session. Please rerun this cell to enable.\n",
              "      </output>\n",
              "      <script>// Copyright 2017 Google LLC\n",
              "//\n",
              "// Licensed under the Apache License, Version 2.0 (the \"License\");\n",
              "// you may not use this file except in compliance with the License.\n",
              "// You may obtain a copy of the License at\n",
              "//\n",
              "//      http://www.apache.org/licenses/LICENSE-2.0\n",
              "//\n",
              "// Unless required by applicable law or agreed to in writing, software\n",
              "// distributed under the License is distributed on an \"AS IS\" BASIS,\n",
              "// WITHOUT WARRANTIES OR CONDITIONS OF ANY KIND, either express or implied.\n",
              "// See the License for the specific language governing permissions and\n",
              "// limitations under the License.\n",
              "\n",
              "/**\n",
              " * @fileoverview Helpers for google.colab Python module.\n",
              " */\n",
              "(function(scope) {\n",
              "function span(text, styleAttributes = {}) {\n",
              "  const element = document.createElement('span');\n",
              "  element.textContent = text;\n",
              "  for (const key of Object.keys(styleAttributes)) {\n",
              "    element.style[key] = styleAttributes[key];\n",
              "  }\n",
              "  return element;\n",
              "}\n",
              "\n",
              "// Max number of bytes which will be uploaded at a time.\n",
              "const MAX_PAYLOAD_SIZE = 100 * 1024;\n",
              "\n",
              "function _uploadFiles(inputId, outputId) {\n",
              "  const steps = uploadFilesStep(inputId, outputId);\n",
              "  const outputElement = document.getElementById(outputId);\n",
              "  // Cache steps on the outputElement to make it available for the next call\n",
              "  // to uploadFilesContinue from Python.\n",
              "  outputElement.steps = steps;\n",
              "\n",
              "  return _uploadFilesContinue(outputId);\n",
              "}\n",
              "\n",
              "// This is roughly an async generator (not supported in the browser yet),\n",
              "// where there are multiple asynchronous steps and the Python side is going\n",
              "// to poll for completion of each step.\n",
              "// This uses a Promise to block the python side on completion of each step,\n",
              "// then passes the result of the previous step as the input to the next step.\n",
              "function _uploadFilesContinue(outputId) {\n",
              "  const outputElement = document.getElementById(outputId);\n",
              "  const steps = outputElement.steps;\n",
              "\n",
              "  const next = steps.next(outputElement.lastPromiseValue);\n",
              "  return Promise.resolve(next.value.promise).then((value) => {\n",
              "    // Cache the last promise value to make it available to the next\n",
              "    // step of the generator.\n",
              "    outputElement.lastPromiseValue = value;\n",
              "    return next.value.response;\n",
              "  });\n",
              "}\n",
              "\n",
              "/**\n",
              " * Generator function which is called between each async step of the upload\n",
              " * process.\n",
              " * @param {string} inputId Element ID of the input file picker element.\n",
              " * @param {string} outputId Element ID of the output display.\n",
              " * @return {!Iterable<!Object>} Iterable of next steps.\n",
              " */\n",
              "function* uploadFilesStep(inputId, outputId) {\n",
              "  const inputElement = document.getElementById(inputId);\n",
              "  inputElement.disabled = false;\n",
              "\n",
              "  const outputElement = document.getElementById(outputId);\n",
              "  outputElement.innerHTML = '';\n",
              "\n",
              "  const pickedPromise = new Promise((resolve) => {\n",
              "    inputElement.addEventListener('change', (e) => {\n",
              "      resolve(e.target.files);\n",
              "    });\n",
              "  });\n",
              "\n",
              "  const cancel = document.createElement('button');\n",
              "  inputElement.parentElement.appendChild(cancel);\n",
              "  cancel.textContent = 'Cancel upload';\n",
              "  const cancelPromise = new Promise((resolve) => {\n",
              "    cancel.onclick = () => {\n",
              "      resolve(null);\n",
              "    };\n",
              "  });\n",
              "\n",
              "  // Wait for the user to pick the files.\n",
              "  const files = yield {\n",
              "    promise: Promise.race([pickedPromise, cancelPromise]),\n",
              "    response: {\n",
              "      action: 'starting',\n",
              "    }\n",
              "  };\n",
              "\n",
              "  cancel.remove();\n",
              "\n",
              "  // Disable the input element since further picks are not allowed.\n",
              "  inputElement.disabled = true;\n",
              "\n",
              "  if (!files) {\n",
              "    return {\n",
              "      response: {\n",
              "        action: 'complete',\n",
              "      }\n",
              "    };\n",
              "  }\n",
              "\n",
              "  for (const file of files) {\n",
              "    const li = document.createElement('li');\n",
              "    li.append(span(file.name, {fontWeight: 'bold'}));\n",
              "    li.append(span(\n",
              "        `(${file.type || 'n/a'}) - ${file.size} bytes, ` +\n",
              "        `last modified: ${\n",
              "            file.lastModifiedDate ? file.lastModifiedDate.toLocaleDateString() :\n",
              "                                    'n/a'} - `));\n",
              "    const percent = span('0% done');\n",
              "    li.appendChild(percent);\n",
              "\n",
              "    outputElement.appendChild(li);\n",
              "\n",
              "    const fileDataPromise = new Promise((resolve) => {\n",
              "      const reader = new FileReader();\n",
              "      reader.onload = (e) => {\n",
              "        resolve(e.target.result);\n",
              "      };\n",
              "      reader.readAsArrayBuffer(file);\n",
              "    });\n",
              "    // Wait for the data to be ready.\n",
              "    let fileData = yield {\n",
              "      promise: fileDataPromise,\n",
              "      response: {\n",
              "        action: 'continue',\n",
              "      }\n",
              "    };\n",
              "\n",
              "    // Use a chunked sending to avoid message size limits. See b/62115660.\n",
              "    let position = 0;\n",
              "    do {\n",
              "      const length = Math.min(fileData.byteLength - position, MAX_PAYLOAD_SIZE);\n",
              "      const chunk = new Uint8Array(fileData, position, length);\n",
              "      position += length;\n",
              "\n",
              "      const base64 = btoa(String.fromCharCode.apply(null, chunk));\n",
              "      yield {\n",
              "        response: {\n",
              "          action: 'append',\n",
              "          file: file.name,\n",
              "          data: base64,\n",
              "        },\n",
              "      };\n",
              "\n",
              "      let percentDone = fileData.byteLength === 0 ?\n",
              "          100 :\n",
              "          Math.round((position / fileData.byteLength) * 100);\n",
              "      percent.textContent = `${percentDone}% done`;\n",
              "\n",
              "    } while (position < fileData.byteLength);\n",
              "  }\n",
              "\n",
              "  // All done.\n",
              "  yield {\n",
              "    response: {\n",
              "      action: 'complete',\n",
              "    }\n",
              "  };\n",
              "}\n",
              "\n",
              "scope.google = scope.google || {};\n",
              "scope.google.colab = scope.google.colab || {};\n",
              "scope.google.colab._files = {\n",
              "  _uploadFiles,\n",
              "  _uploadFilesContinue,\n",
              "};\n",
              "})(self);\n",
              "</script> "
            ]
          },
          "metadata": {}
        },
        {
          "output_type": "stream",
          "name": "stdout",
          "text": [
            "Saving kaggle.json to kaggle.json\n"
          ]
        },
        {
          "output_type": "execute_result",
          "data": {
            "text/plain": [
              "{'kaggle.json': b'{\"username\":\"ffkj003\",\"key\":\"a8ed1ecb27a8d05fd4c82a37bc54de10\"}'}"
            ]
          },
          "metadata": {},
          "execution_count": 1
        }
      ],
      "source": [
        "from google.colab import files\n",
        "files.upload()  # Upload kaggle.json"
      ]
    },
    {
      "cell_type": "code",
      "source": [
        "mv kaggle.json ~/.kaggle/"
      ],
      "metadata": {
        "colab": {
          "base_uri": "https://localhost:8080/"
        },
        "id": "enfC8szJ9Rwf",
        "outputId": "31bc9650-2972-4183-c5f7-cc9ad7e025e0"
      },
      "execution_count": 2,
      "outputs": [
        {
          "output_type": "stream",
          "name": "stdout",
          "text": [
            "mv: cannot move 'kaggle.json' to '/root/.kaggle/': Not a directory\n"
          ]
        }
      ]
    },
    {
      "cell_type": "code",
      "source": [
        "!kaggle datasets download -d rounakbanik/the-movies-dataset --unzip --file movies_metadata.csv"
      ],
      "metadata": {
        "colab": {
          "base_uri": "https://localhost:8080/"
        },
        "id": "JLgId32d9ebj",
        "outputId": "05d45e7f-18ba-4a37-e9e5-4a30e9c51aff"
      },
      "execution_count": 6,
      "outputs": [
        {
          "output_type": "stream",
          "name": "stdout",
          "text": [
            "Dataset URL: https://www.kaggle.com/datasets/rounakbanik/the-movies-dataset\n",
            "License(s): CC0-1.0\n",
            "movies_metadata.csv.zip: Skipping, found more recently modified local copy (use --force to force download)\n"
          ]
        }
      ]
    },
    {
      "cell_type": "code",
      "source": [
        "import zipfile\n",
        "\n",
        "with zipfile.ZipFile(\"movies_metadata.csv.zip\", 'r') as zip_ref:\n",
        "    zip_ref.extractall(\".\")"
      ],
      "metadata": {
        "id": "6BsNSiES_9O-"
      },
      "execution_count": 7,
      "outputs": []
    },
    {
      "cell_type": "markdown",
      "source": [
        "Now that we finished downloading, the csv file should be in the same directory as this notebook. We will load the data and preserve about only 500 rows (through random sampling) and keep only the movie name column and overview column for the purpose of this coding challenge."
      ],
      "metadata": {
        "id": "AuGAAj1v_MMi"
      }
    },
    {
      "cell_type": "code",
      "source": [
        "sample_size = 500\n",
        "movie_df = pd.read_csv(\"movies_metadata.csv\")\n",
        "movie_df = movie_df.dropna()\n",
        "movie_df = movie_df.sample(n=sample_size, random_state=42).reset_index()"
      ],
      "metadata": {
        "colab": {
          "base_uri": "https://localhost:8080/"
        },
        "id": "uOKHS2_c9_XR",
        "outputId": "a980eb52-8096-46c1-b356-2ebf646f0ad7"
      },
      "execution_count": 23,
      "outputs": [
        {
          "output_type": "stream",
          "name": "stderr",
          "text": [
            "<ipython-input-23-64a5b529c8ab>:2: DtypeWarning: Columns (10) have mixed types. Specify dtype option on import or set low_memory=False.\n",
            "  movie_df = pd.read_csv(\"movies_metadata.csv\")\n"
          ]
        }
      ]
    },
    {
      "cell_type": "code",
      "source": [
        "movie_df = movie_df[['original_title', 'overview']]\n",
        "movie_df.head()"
      ],
      "metadata": {
        "colab": {
          "base_uri": "https://localhost:8080/",
          "height": 206
        },
        "id": "N2b3KEy_AXi5",
        "outputId": "d9b56f6d-f38f-4233-fe08-4a284894a4bc"
      },
      "execution_count": 24,
      "outputs": [
        {
          "output_type": "execute_result",
          "data": {
            "text/plain": [
              "                original_title  \\\n",
              "0                 Death Race 2   \n",
              "1  Jack Reacher: Never Go Back   \n",
              "2                     Twilight   \n",
              "3                       Saw 3D   \n",
              "4                Despicable Me   \n",
              "\n",
              "                                            overview  \n",
              "0  In the world's most dangerous prison, a new ga...  \n",
              "1  Jack Reacher must uncover the truth behind a m...  \n",
              "2  When Bella Swan moves to a small town in the P...  \n",
              "3  As a deadly battle rages over Jigsaw's brutal ...  \n",
              "4  Villainous Gru lives up to his reputation as a...  "
            ],
            "text/html": [
              "\n",
              "  <div id=\"df-05a2c461-586e-4534-b413-d433c145fa7d\" class=\"colab-df-container\">\n",
              "    <div>\n",
              "<style scoped>\n",
              "    .dataframe tbody tr th:only-of-type {\n",
              "        vertical-align: middle;\n",
              "    }\n",
              "\n",
              "    .dataframe tbody tr th {\n",
              "        vertical-align: top;\n",
              "    }\n",
              "\n",
              "    .dataframe thead th {\n",
              "        text-align: right;\n",
              "    }\n",
              "</style>\n",
              "<table border=\"1\" class=\"dataframe\">\n",
              "  <thead>\n",
              "    <tr style=\"text-align: right;\">\n",
              "      <th></th>\n",
              "      <th>original_title</th>\n",
              "      <th>overview</th>\n",
              "    </tr>\n",
              "  </thead>\n",
              "  <tbody>\n",
              "    <tr>\n",
              "      <th>0</th>\n",
              "      <td>Death Race 2</td>\n",
              "      <td>In the world's most dangerous prison, a new ga...</td>\n",
              "    </tr>\n",
              "    <tr>\n",
              "      <th>1</th>\n",
              "      <td>Jack Reacher: Never Go Back</td>\n",
              "      <td>Jack Reacher must uncover the truth behind a m...</td>\n",
              "    </tr>\n",
              "    <tr>\n",
              "      <th>2</th>\n",
              "      <td>Twilight</td>\n",
              "      <td>When Bella Swan moves to a small town in the P...</td>\n",
              "    </tr>\n",
              "    <tr>\n",
              "      <th>3</th>\n",
              "      <td>Saw 3D</td>\n",
              "      <td>As a deadly battle rages over Jigsaw's brutal ...</td>\n",
              "    </tr>\n",
              "    <tr>\n",
              "      <th>4</th>\n",
              "      <td>Despicable Me</td>\n",
              "      <td>Villainous Gru lives up to his reputation as a...</td>\n",
              "    </tr>\n",
              "  </tbody>\n",
              "</table>\n",
              "</div>\n",
              "    <div class=\"colab-df-buttons\">\n",
              "\n",
              "  <div class=\"colab-df-container\">\n",
              "    <button class=\"colab-df-convert\" onclick=\"convertToInteractive('df-05a2c461-586e-4534-b413-d433c145fa7d')\"\n",
              "            title=\"Convert this dataframe to an interactive table.\"\n",
              "            style=\"display:none;\">\n",
              "\n",
              "  <svg xmlns=\"http://www.w3.org/2000/svg\" height=\"24px\" viewBox=\"0 -960 960 960\">\n",
              "    <path d=\"M120-120v-720h720v720H120Zm60-500h600v-160H180v160Zm220 220h160v-160H400v160Zm0 220h160v-160H400v160ZM180-400h160v-160H180v160Zm440 0h160v-160H620v160ZM180-180h160v-160H180v160Zm440 0h160v-160H620v160Z\"/>\n",
              "  </svg>\n",
              "    </button>\n",
              "\n",
              "  <style>\n",
              "    .colab-df-container {\n",
              "      display:flex;\n",
              "      gap: 12px;\n",
              "    }\n",
              "\n",
              "    .colab-df-convert {\n",
              "      background-color: #E8F0FE;\n",
              "      border: none;\n",
              "      border-radius: 50%;\n",
              "      cursor: pointer;\n",
              "      display: none;\n",
              "      fill: #1967D2;\n",
              "      height: 32px;\n",
              "      padding: 0 0 0 0;\n",
              "      width: 32px;\n",
              "    }\n",
              "\n",
              "    .colab-df-convert:hover {\n",
              "      background-color: #E2EBFA;\n",
              "      box-shadow: 0px 1px 2px rgba(60, 64, 67, 0.3), 0px 1px 3px 1px rgba(60, 64, 67, 0.15);\n",
              "      fill: #174EA6;\n",
              "    }\n",
              "\n",
              "    .colab-df-buttons div {\n",
              "      margin-bottom: 4px;\n",
              "    }\n",
              "\n",
              "    [theme=dark] .colab-df-convert {\n",
              "      background-color: #3B4455;\n",
              "      fill: #D2E3FC;\n",
              "    }\n",
              "\n",
              "    [theme=dark] .colab-df-convert:hover {\n",
              "      background-color: #434B5C;\n",
              "      box-shadow: 0px 1px 3px 1px rgba(0, 0, 0, 0.15);\n",
              "      filter: drop-shadow(0px 1px 2px rgba(0, 0, 0, 0.3));\n",
              "      fill: #FFFFFF;\n",
              "    }\n",
              "  </style>\n",
              "\n",
              "    <script>\n",
              "      const buttonEl =\n",
              "        document.querySelector('#df-05a2c461-586e-4534-b413-d433c145fa7d button.colab-df-convert');\n",
              "      buttonEl.style.display =\n",
              "        google.colab.kernel.accessAllowed ? 'block' : 'none';\n",
              "\n",
              "      async function convertToInteractive(key) {\n",
              "        const element = document.querySelector('#df-05a2c461-586e-4534-b413-d433c145fa7d');\n",
              "        const dataTable =\n",
              "          await google.colab.kernel.invokeFunction('convertToInteractive',\n",
              "                                                    [key], {});\n",
              "        if (!dataTable) return;\n",
              "\n",
              "        const docLinkHtml = 'Like what you see? Visit the ' +\n",
              "          '<a target=\"_blank\" href=https://colab.research.google.com/notebooks/data_table.ipynb>data table notebook</a>'\n",
              "          + ' to learn more about interactive tables.';\n",
              "        element.innerHTML = '';\n",
              "        dataTable['output_type'] = 'display_data';\n",
              "        await google.colab.output.renderOutput(dataTable, element);\n",
              "        const docLink = document.createElement('div');\n",
              "        docLink.innerHTML = docLinkHtml;\n",
              "        element.appendChild(docLink);\n",
              "      }\n",
              "    </script>\n",
              "  </div>\n",
              "\n",
              "\n",
              "<div id=\"df-32f47b64-7153-4ce3-882a-92e9b33382e2\">\n",
              "  <button class=\"colab-df-quickchart\" onclick=\"quickchart('df-32f47b64-7153-4ce3-882a-92e9b33382e2')\"\n",
              "            title=\"Suggest charts\"\n",
              "            style=\"display:none;\">\n",
              "\n",
              "<svg xmlns=\"http://www.w3.org/2000/svg\" height=\"24px\"viewBox=\"0 0 24 24\"\n",
              "     width=\"24px\">\n",
              "    <g>\n",
              "        <path d=\"M19 3H5c-1.1 0-2 .9-2 2v14c0 1.1.9 2 2 2h14c1.1 0 2-.9 2-2V5c0-1.1-.9-2-2-2zM9 17H7v-7h2v7zm4 0h-2V7h2v10zm4 0h-2v-4h2v4z\"/>\n",
              "    </g>\n",
              "</svg>\n",
              "  </button>\n",
              "\n",
              "<style>\n",
              "  .colab-df-quickchart {\n",
              "      --bg-color: #E8F0FE;\n",
              "      --fill-color: #1967D2;\n",
              "      --hover-bg-color: #E2EBFA;\n",
              "      --hover-fill-color: #174EA6;\n",
              "      --disabled-fill-color: #AAA;\n",
              "      --disabled-bg-color: #DDD;\n",
              "  }\n",
              "\n",
              "  [theme=dark] .colab-df-quickchart {\n",
              "      --bg-color: #3B4455;\n",
              "      --fill-color: #D2E3FC;\n",
              "      --hover-bg-color: #434B5C;\n",
              "      --hover-fill-color: #FFFFFF;\n",
              "      --disabled-bg-color: #3B4455;\n",
              "      --disabled-fill-color: #666;\n",
              "  }\n",
              "\n",
              "  .colab-df-quickchart {\n",
              "    background-color: var(--bg-color);\n",
              "    border: none;\n",
              "    border-radius: 50%;\n",
              "    cursor: pointer;\n",
              "    display: none;\n",
              "    fill: var(--fill-color);\n",
              "    height: 32px;\n",
              "    padding: 0;\n",
              "    width: 32px;\n",
              "  }\n",
              "\n",
              "  .colab-df-quickchart:hover {\n",
              "    background-color: var(--hover-bg-color);\n",
              "    box-shadow: 0 1px 2px rgba(60, 64, 67, 0.3), 0 1px 3px 1px rgba(60, 64, 67, 0.15);\n",
              "    fill: var(--button-hover-fill-color);\n",
              "  }\n",
              "\n",
              "  .colab-df-quickchart-complete:disabled,\n",
              "  .colab-df-quickchart-complete:disabled:hover {\n",
              "    background-color: var(--disabled-bg-color);\n",
              "    fill: var(--disabled-fill-color);\n",
              "    box-shadow: none;\n",
              "  }\n",
              "\n",
              "  .colab-df-spinner {\n",
              "    border: 2px solid var(--fill-color);\n",
              "    border-color: transparent;\n",
              "    border-bottom-color: var(--fill-color);\n",
              "    animation:\n",
              "      spin 1s steps(1) infinite;\n",
              "  }\n",
              "\n",
              "  @keyframes spin {\n",
              "    0% {\n",
              "      border-color: transparent;\n",
              "      border-bottom-color: var(--fill-color);\n",
              "      border-left-color: var(--fill-color);\n",
              "    }\n",
              "    20% {\n",
              "      border-color: transparent;\n",
              "      border-left-color: var(--fill-color);\n",
              "      border-top-color: var(--fill-color);\n",
              "    }\n",
              "    30% {\n",
              "      border-color: transparent;\n",
              "      border-left-color: var(--fill-color);\n",
              "      border-top-color: var(--fill-color);\n",
              "      border-right-color: var(--fill-color);\n",
              "    }\n",
              "    40% {\n",
              "      border-color: transparent;\n",
              "      border-right-color: var(--fill-color);\n",
              "      border-top-color: var(--fill-color);\n",
              "    }\n",
              "    60% {\n",
              "      border-color: transparent;\n",
              "      border-right-color: var(--fill-color);\n",
              "    }\n",
              "    80% {\n",
              "      border-color: transparent;\n",
              "      border-right-color: var(--fill-color);\n",
              "      border-bottom-color: var(--fill-color);\n",
              "    }\n",
              "    90% {\n",
              "      border-color: transparent;\n",
              "      border-bottom-color: var(--fill-color);\n",
              "    }\n",
              "  }\n",
              "</style>\n",
              "\n",
              "  <script>\n",
              "    async function quickchart(key) {\n",
              "      const quickchartButtonEl =\n",
              "        document.querySelector('#' + key + ' button');\n",
              "      quickchartButtonEl.disabled = true;  // To prevent multiple clicks.\n",
              "      quickchartButtonEl.classList.add('colab-df-spinner');\n",
              "      try {\n",
              "        const charts = await google.colab.kernel.invokeFunction(\n",
              "            'suggestCharts', [key], {});\n",
              "      } catch (error) {\n",
              "        console.error('Error during call to suggestCharts:', error);\n",
              "      }\n",
              "      quickchartButtonEl.classList.remove('colab-df-spinner');\n",
              "      quickchartButtonEl.classList.add('colab-df-quickchart-complete');\n",
              "    }\n",
              "    (() => {\n",
              "      let quickchartButtonEl =\n",
              "        document.querySelector('#df-32f47b64-7153-4ce3-882a-92e9b33382e2 button');\n",
              "      quickchartButtonEl.style.display =\n",
              "        google.colab.kernel.accessAllowed ? 'block' : 'none';\n",
              "    })();\n",
              "  </script>\n",
              "</div>\n",
              "\n",
              "    </div>\n",
              "  </div>\n"
            ],
            "application/vnd.google.colaboratory.intrinsic+json": {
              "type": "dataframe",
              "variable_name": "movie_df",
              "summary": "{\n  \"name\": \"movie_df\",\n  \"rows\": 500,\n  \"fields\": [\n    {\n      \"column\": \"original_title\",\n      \"properties\": {\n        \"dtype\": \"string\",\n        \"num_unique_values\": 497,\n        \"samples\": [\n          \"22 Jump Street\",\n          \"Mission: Impossible II\",\n          \"Tropa de Elite 2\"\n        ],\n        \"semantic_type\": \"\",\n        \"description\": \"\"\n      }\n    },\n    {\n      \"column\": \"overview\",\n      \"properties\": {\n        \"dtype\": \"string\",\n        \"num_unique_values\": 500,\n        \"samples\": [\n          \"It ain't easy bein' green -- especially if you're a likable (albeit smelly) ogre named Shrek. On a mission to retrieve a gorgeous princess from the clutches of a fire-breathing dragon, Shrek teams up with an unlikely compatriot -- a wisecracking donkey.\",\n          \"With computer genius Luther Stickell at his side and a beautiful thief on his mind, agent Ethan Hunt races across Australia and Spain to stop a former IMF agent from unleashing a genetically engineered biological weapon called Chimera. This mission, should Hunt choose to accept it, plunges him into the center of an international crisis of terrifying magnitude.\",\n          \"A cowherd with a skull-mounted motorcycle and a university student meet in Dakar; put off by life in Senegal, they plan to make money in Paris.\"\n        ],\n        \"semantic_type\": \"\",\n        \"description\": \"\"\n      }\n    }\n  ]\n}"
            }
          },
          "metadata": {},
          "execution_count": 24
        }
      ]
    },
    {
      "cell_type": "markdown",
      "source": [
        "Just for consistency of reproduction. This version of the dataset will be stored in a csv file that is uploaded to the github repo. But you should be able to reproduce this file by following the above steps because everything is seeded."
      ],
      "metadata": {
        "id": "7eUVE_fYBqXm"
      }
    },
    {
      "cell_type": "code",
      "source": [
        "movie_df.to_csv('movies_500.csv', index=False)"
      ],
      "metadata": {
        "id": "qAn8NFrGA7Vp"
      },
      "execution_count": 26,
      "outputs": []
    },
    {
      "cell_type": "markdown",
      "source": [
        "## Content Similarity Based Approach (with TF-IDF vectorization and cosine similarity)\n",
        "This approach is the standard similarity based approach based on cosine similarity of the tf-idf vectorization of each movie's overview to that of user's prompt.\n",
        "\n",
        "To do this, we will need to vectorize overview and prompt, and also need to calculate the cosine similarity score. We will be using the corresponding functions from sklearn package. But the general idea is that tfidf uses bag-of-words concept to get a vector representation for each line showing relevancy of words in it. Then cosine similarity is used to compare the word usage of two phrases. If the two have similar words in similar proportions, the cosine similarity of the two is close to 1."
      ],
      "metadata": {
        "id": "XKkBRG8hCAGX"
      }
    },
    {
      "cell_type": "code",
      "source": [
        "from sklearn.feature_extraction.text import TfidfVectorizer\n",
        "from sklearn.metrics.pairwise import cosine_similarity"
      ],
      "metadata": {
        "id": "pXt0APGvFCQL"
      },
      "execution_count": 50,
      "outputs": []
    },
    {
      "cell_type": "code",
      "source": [
        "# vectorize all rows at once to save computation and reduce latency.\n",
        "vectorizer = TfidfVectorizer()\n",
        "tfidf_vectors = vectorizer.fit_transform(movie_df[\"overview\"])\n",
        "movie_df[\"tfidf_vector\"] = list(tfidf_vectors.toarray())"
      ],
      "metadata": {
        "id": "sW6IpQ-OLxDY"
      },
      "execution_count": 28,
      "outputs": []
    },
    {
      "cell_type": "code",
      "source": [
        "def compute_similarity(df, vectorizer, user_query, top_n=5):\n",
        "    user_vec = vectorizer.transform([user_query])\n",
        "    # get similarity score\n",
        "    sim_scores = np.array([cosine_similarity(user_vec, [movie])[0][0] for movie in df['tfidf_vector']])\n",
        "    top_indices = sim_scores.argsort()[-top_n:][::-1]  # Get top N matches\n",
        "    top_movie = df.iloc[top_indices][['original_title', 'overview']]\n",
        "    top_sim = sim_scores[top_indices]\n",
        "    for i in range(top_n):\n",
        "        print(f\"The top {i+1} match is '{top_movie.iloc[i]['original_title']}' with similarity score {top_sim[i]}. \\\n",
        "        Overview: {top_movie.iloc[i]['overview']}.\")\n",
        "\n",
        "    return df.iloc[top_indices]['original_title'].tolist(), sim_scores[top_indices]"
      ],
      "metadata": {
        "id": "qnRXksjJAuKA"
      },
      "execution_count": 41,
      "outputs": []
    },
    {
      "cell_type": "markdown",
      "source": [
        "## Testing"
      ],
      "metadata": {
        "id": "AKV4_YX6cxKV"
      }
    },
    {
      "cell_type": "code",
      "source": [
        "# Testing with prompt\n",
        "user = \"I love thrilling action movies set in space, with a comedic twist.\"\n",
        "compute_similarity(movie_df, vectorizer, user)"
      ],
      "metadata": {
        "colab": {
          "base_uri": "https://localhost:8080/"
        },
        "id": "vTDoAWaGX-DK",
        "outputId": "061a6859-92cd-43b3-aa45-e8b222e00d01"
      },
      "execution_count": 42,
      "outputs": [
        {
          "output_type": "stream",
          "name": "stdout",
          "text": [
            "The top 1 match is '[REC]³ Génesis' with similarity score 0.16465183003201372.       Overview: The action now takes place miles away from the original location and partly in broad daylight, giving the film an entirely fresh yet disturbing new reality. The infection has left the building. In a clever twist that draws together the plots of the first two movies, this third part of the saga also works as a decoder to uncover information hidden in the first two films and leaves the door open for the final installment, the future '[REC] 4 Apocalypse.'.\n",
            "The top 2 match is 'Iron Sky' with similarity score 0.14181209339408896.       Overview: In the last moments of World War II, a secret Nazi space program evaded destruction by fleeing to the Dark Side of the Moon. During 70 years of utter secrecy, the Nazis construct a gigantic space fortress with a massive armada of flying saucers..\n",
            "The top 3 match is 'You Only Live Twice' with similarity score 0.13413114995790165.       Overview: A mysterious space craft kidnaps a Russian and American space capsule and brings the world on the verge of another World War. James Bond investigates the case in Japan and meets with his archenemy Blofeld. The fifth film from the legendary James Bond series starring Sean Connery as the British super agent..\n",
            "The top 4 match is 'Moonraker' with similarity score 0.11349949150097813.       Overview: During the transportation of a Space Shuttle a Boeing 747 crashes in the Atlantic Ocean yet when they go to look for the destroyed shuttle it is not there. James Bond investigates the missing mission space shuttle and soon learns that the shuttles owner Hugo Drax wants to kill all of mankind..\n",
            "The top 5 match is 'Camp Rock' with similarity score 0.1096588586161471.       Overview: When Mitchie gets a chance to attend Camp Rock, her life takes an unpredictable twist, and she learns just how important it is to be true to yourself..\n"
          ]
        },
        {
          "output_type": "execute_result",
          "data": {
            "text/plain": [
              "(['[REC]³ Génesis',\n",
              "  'Iron Sky',\n",
              "  'You Only Live Twice',\n",
              "  'Moonraker',\n",
              "  'Camp Rock'],\n",
              " array([0.16465183, 0.14181209, 0.13413115, 0.11349949, 0.10965886]))"
            ]
          },
          "metadata": {},
          "execution_count": 42
        }
      ]
    },
    {
      "cell_type": "code",
      "source": [
        "user = \"I love cartoon comedies with magical elements.\"\n",
        "recommendation, scores = compute_similarity(movie_df, vectorizer, user)"
      ],
      "metadata": {
        "colab": {
          "base_uri": "https://localhost:8080/"
        },
        "id": "GhcprdHoYOkc",
        "outputId": "a84617fa-1074-41ba-c638-826ea2b9afe2"
      },
      "execution_count": 52,
      "outputs": [
        {
          "output_type": "stream",
          "name": "stdout",
          "text": [
            "The top 1 match is '2046' with similarity score 0.13921836364561335.       Overview: 2046 is the sequel to Wong Kar-Wais’ successful box-office hit In The Mood For Love. A film about affairs, ending relationships, and a shared love for Kung-Fu novels as the main character, Chow, writes his own novel and reflects back on his favorite love Su..\n",
            "The top 2 match is '劇場版ポケットモンスター 幻のポケモン ルギア爆誕' with similarity score 0.11984922615066444.       Overview: Ash Ketchum must put his skill to the test when he attempts to save the world from destruction. The Greedy Pokemon collector Lawrence III throws the universe into chaos after disrupting the balance of nature by capturing one of the Pokemon birds that rule the elements of fire, lightning and ice. Will Ash have what it takes to save the world?.\n",
            "The top 3 match is 'Tangled' with similarity score 0.09243273131577245.       Overview: When the kingdom's most wanted-and most charming-bandit Flynn Rider hides out in a mysterious tower, he's taken hostage by Rapunzel, a beautiful and feisty tower-bound teen with 70 feet of magical, golden hair. Flynn's curious captor, who's looking for her ticket out of the tower where she's been locked away for years, strikes a deal with the handsome thief and the unlikely duo sets off on an action-packed escapade, complete with a super-cop horse, an over-protective chameleon and a gruff gang of pub thugs..\n",
            "The top 4 match is 'The Flintstones in Viva Rock Vegas' with similarity score 0.08657529109683627.       Overview: The Flintstones are at it again. The Flintstones and the Rubbles head for Rock Vegas with Fred hoping to court the lovely Wilma. Nothing will stand in the way of love, except for the conniving Chip Rockefeller who is the playboy born in Baysville but who has made it in the cutthroat town of Rock Vegas. Will Fred win Wilma's love?.\n",
            "The top 5 match is 'Frozen' with similarity score 0.08533798824231734.       Overview: Young princess Anna of Arendelle dreams about finding true love at her sister Elsa’s coronation. Fate takes her on a dangerous journey in an attempt to end the eternal winter that has fallen over the kingdom. She's accompanied by ice delivery man Kristoff, his reindeer Sven, and snowman Olaf. On an adventure where she will find out what friendship, courage, family, and true love really means..\n"
          ]
        }
      ]
    },
    {
      "cell_type": "code",
      "source": [
        "import json\n",
        "output_sample = {'user_prompt': user, 'recommended_movies': recommendation, \"similarity_scores\": scores.tolist()}\n",
        "with open(\"sample_output.json\", \"w\") as file:\n",
        "  json.dump(output_sample, file, indent=4)"
      ],
      "metadata": {
        "id": "8UnQUwZubyb0"
      },
      "execution_count": 57,
      "outputs": []
    },
    {
      "cell_type": "markdown",
      "source": [
        "## Miscellaneous: Specification on TD-IDF vectorization and cosine similarity\n",
        "\n",
        "In the previous section, we imported packages from sklearn to do those two tasks, but here we will implement from scratch to illustrate the principle of those.\n",
        "\n",
        "Formula:\n",
        "$$TF-IDF(t,d)=TF(t,d) \\times IDF(t)$$, where\n",
        "\n",
        "$$TF(t,d)= \\frac{\\text{Number of times term t appears in document d}}{\\text{Total number of terms in document d}}$$, and\n",
        "\n",
        "$$IDF(t)=log(\\frac{N}{DF(t)})$$.\n",
        "\n",
        "And for cosine similarity:\n",
        "$$\\text{cosine similarity}=\\frac{A⋅B}{∥A∥∥B∥}$$ where ∥A∥ is norm of A.\n",
        "\n"
      ],
      "metadata": {
        "id": "G1wmrvNSdpe7"
      }
    },
    {
      "cell_type": "code",
      "source": [
        "# Example of Vactorization\n",
        "from collections import Counter\n",
        "import math\n",
        "# getting TF part score (equation 2)\n",
        "def get_tfidf_vector(corpus):\n",
        "    tf_list = []\n",
        "    for overview in corpus:\n",
        "        word_count = Counter(overview.split()) # keep track of unique words and their occurance in this overview\n",
        "        total_words = len(overview.split())\n",
        "        tf = {word: count / total_words for word, count in word_count.items()}\n",
        "        tf_list.append(tf)\n",
        "\n",
        "    # getting IDF part score (equation 3)\n",
        "    total_documents = movie_df.shape[0]\n",
        "    idf = {}\n",
        "    all_words = set(word for movie in corpus for word in movie.split())\n",
        "\n",
        "    for word in all_words:\n",
        "        num_overviews_with_word = sum(1 for movie in corpus if word in movie.split())\n",
        "        idf[word] = math.log(total_documents / (num_overviews_with_word + 1)) + 1  # Smooth log by adding 1 to avoid 0\n",
        "\n",
        "    # TF-IDF vector for each row (equation 1)\n",
        "    tfidf_list = []\n",
        "    for tf in tf_list:\n",
        "        tfidf = {word: tf[word] * idf[word] for word in tf}\n",
        "        tfidf_list.append(tfidf)\n",
        "    return tfidf_list"
      ],
      "metadata": {
        "id": "G0P_Qix8fhO6"
      },
      "execution_count": 46,
      "outputs": []
    },
    {
      "cell_type": "code",
      "source": [
        "# Now experiment with cosine similarity\n",
        "def compute_cosine_similarity(vec1, vec2):\n",
        "    # Compute dot product of two vectors\n",
        "    dot_product = sum(vec1.get(word, 0) * vec2.get(word, 0) for word in set(vec1) | set(vec2))\n",
        "\n",
        "    # Compute norm of the vectors\n",
        "    norm1 = math.sqrt(sum(val ** 2 for val in vec1.values()))\n",
        "    norm2 = math.sqrt(sum(val ** 2 for val in vec2.values()))\n",
        "\n",
        "    # special cases when magnitude of either vector is 0, this means similarity between the two has to be 0.\n",
        "    if norm1 == 0 or norm2 == 0:\n",
        "        return 0\n",
        "    return dot_product / (norm1 * norm2)"
      ],
      "metadata": {
        "id": "29bw4rUkj_pC"
      },
      "execution_count": 47,
      "outputs": []
    },
    {
      "cell_type": "code",
      "source": [
        "# Example test similarity\n",
        "user = \"I like action movies with superheros.\"\n",
        "\n",
        "# getting vectors\n",
        "tfidf_list = get_tfidf_vector(movie_df['overview'])\n",
        "query_tfidf = get_tfidf_vector([user])\n",
        "\n",
        "# compute similarity with each\n",
        "sim_scores = [compute_cosine_similarity(query_tfidf[0], movie) for movie in tfidf_list]\n",
        "\n",
        "# get top 5 movies\n",
        "top_indices = np.argsort(sim_scores)[-5:][::-1]  # Get top N indices (sorted)\n",
        "top_movie = [movie_df['original_title'][i] for i in top_indices]\n",
        "top_sim = [sim_scores[i] for i in top_indices]\n",
        "\n",
        "# Step 3.5: Display the results\n",
        "for i in range(5):\n",
        "    print(f\"The top {i+1} match is '{top_movie[i]}' with similarity score {top_sim[i]}.\")"
      ],
      "metadata": {
        "colab": {
          "base_uri": "https://localhost:8080/"
        },
        "id": "_0oBo4QOkyB5",
        "outputId": "b1e80654-331e-4982-8e97-cee86309b277"
      },
      "execution_count": 48,
      "outputs": [
        {
          "output_type": "stream",
          "name": "stdout",
          "text": [
            "The top 1 match is '[REC]²' with similarity score 0.15567289851709365.\n",
            "The top 2 match is 'Mission: Impossible III' with similarity score 0.09027384094029696.\n",
            "The top 3 match is 'Vampires Suck' with similarity score 0.08249387381117913.\n",
            "The top 4 match is '西遊記之大鬧天宮' with similarity score 0.08100494733114658.\n",
            "The top 5 match is 'Mad Max: Fury Road' with similarity score 0.0808005526636628.\n"
          ]
        }
      ]
    },
    {
      "cell_type": "markdown",
      "source": [
        "Overall the result should be pretty close. The packages uses the same vectorizer for user input, which is different from our mannual approach, which would cause a little differences and would be less accurate."
      ],
      "metadata": {
        "id": "019jzCI2m_Jz"
      }
    },
    {
      "cell_type": "code",
      "source": [
        "# Compare with using packages as in the previous section\n",
        "compute_similarity(movie_df, vectorizer, user)"
      ],
      "metadata": {
        "colab": {
          "base_uri": "https://localhost:8080/"
        },
        "id": "skoLOY9Tmhcz",
        "outputId": "73c11add-7427-4c23-ccd9-fdd0a8044de9"
      },
      "execution_count": 51,
      "outputs": [
        {
          "output_type": "stream",
          "name": "stdout",
          "text": [
            "The top 1 match is '[REC]³ Génesis' with similarity score 0.14823087321568218.       Overview: The action now takes place miles away from the original location and partly in broad daylight, giving the film an entirely fresh yet disturbing new reality. The infection has left the building. In a clever twist that draws together the plots of the first two movies, this third part of the saga also works as a decoder to uncover information hidden in the first two films and leaves the door open for the final installment, the future '[REC] 4 Apocalypse.'.\n",
            "The top 2 match is '[REC]²' with similarity score 0.13926419164696807.       Overview: The action continues from [REC], with the medical officer and a SWAT team outfitted with video cameras are sent into the sealed off apartment to control the situation..\n",
            "The top 3 match is 'Think Like a Man' with similarity score 0.12693958981726322.       Overview: The balance of power in four couples’ relationships is upset when the women start using the advice in Steve Harvey’s book, Act Like A Lady, Think Like A Man, to get more of what they want from their men. When the men realize that the women have gotten a hold of their relationship “playbook,” they decide that the best defense is a good offense and come up with a plan to use this information to their advantage..\n",
            "The top 4 match is '西遊記之大鬧天宮' with similarity score 0.11374864804207158.       Overview: Sun Wukong, (The Monkey King) is a monkey born from a heavenly stone who acquires supernatural powers. After rebelling against heaven and being imprisoned under a mountain for 500 years, he later accompanies the monk Xuanzang on a journey to India. Thus, according to legend, Buddhism is brought to ancient China. This much beloved story, is as much a part of Asian culture as The Iliad and The Odyssey or The Wizard of Oz are to the West. This first installment in a trilogy of live action 3-D movies is actually a prequel to The Journey To The West, the much told story of the Monkey King's adventures on the road to India..\n",
            "The top 5 match is 'Agent Cody Banks 2: Destination London' with similarity score 0.10298365045654878.       Overview: With all-new gadgets, high-flying action, exciting chases and a wisecracking new handler, Derek (Anthony Anderson), Cody has to retrieve the device before the world's leaders fall under the evil control of a diabolical villain..\n"
          ]
        },
        {
          "output_type": "execute_result",
          "data": {
            "text/plain": [
              "(['[REC]³ Génesis',\n",
              "  '[REC]²',\n",
              "  'Think Like a Man',\n",
              "  '西遊記之大鬧天宮',\n",
              "  'Agent Cody Banks 2: Destination London'],\n",
              " array([0.14823087, 0.13926419, 0.12693959, 0.11374865, 0.10298365]))"
            ]
          },
          "metadata": {},
          "execution_count": 51
        }
      ]
    },
    {
      "cell_type": "code",
      "source": [],
      "metadata": {
        "id": "mDbKAOJdmvVR"
      },
      "execution_count": null,
      "outputs": []
    }
  ]
}